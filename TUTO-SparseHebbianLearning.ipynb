{
 "cells": [
  {
   "cell_type": "markdown",
   "metadata": {},
   "source": [
    "# Sparse Hebbian Learning on MNIST"
   ]
  },
  {
   "cell_type": "code",
   "execution_count": null,
   "metadata": {
    "ExecuteTime": {
     "end_time": "2018-09-26T12:58:39.392780Z",
     "start_time": "2018-09-26T12:58:38.329893Z"
    }
   },
   "outputs": [],
   "source": [
    "# %pip uninstall -y shl_scripts\n",
    "# %pip install git+https://github.com/bicv/SparseHebbianLearning.git"
   ]
  },
  {
   "cell_type": "code",
   "execution_count": null,
   "metadata": {
    "ExecuteTime": {
     "end_time": "2018-09-26T12:58:39.433488Z",
     "start_time": "2018-09-26T12:58:39.397272Z"
    }
   },
   "outputs": [],
   "source": [
    "%matplotlib inline\n",
    "import matplotlib.pyplot as plt\n",
    "import numpy as np\n",
    "np.set_printoptions(precision=2, suppress=True)"
   ]
  },
  {
   "cell_type": "code",
   "execution_count": null,
   "metadata": {},
   "outputs": [],
   "source": [
    "%mkdir -p cache_data"
   ]
  },
  {
   "cell_type": "markdown",
   "metadata": {},
   "source": [
    "Getting images from https://github.com/rasbt/mnist-pngs\n"
   ]
  },
  {
   "cell_type": "code",
   "execution_count": null,
   "metadata": {
    "ExecuteTime": {
     "end_time": "2018-09-26T13:41:13.141085Z",
     "start_time": "2018-09-26T12:58:39.437458Z"
    },
    "scrolled": false
   },
   "outputs": [],
   "source": [
    "from shl_scripts.shl_experiments import SHL\n",
    "\n",
    "DEBUG_DOWNSCALE, verbose = 32, 10\n",
    "DEBUG_DOWNSCALE, verbose = 1, 10\n",
    "DEBUG_DOWNSCALE, verbose = 4, 10\n",
    "\n",
    "list_figures = ['plot_variance',  'plot_variance_histogram',  'time_plot_prob',  'time_plot_kurt',  'time_plot_var', 'time_plot_MC']\n",
    "homeo_method = 'HEH'\n",
    "\n",
    "opts = dict(DEBUG_DOWNSCALE=DEBUG_DOWNSCALE, verbose=verbose, cache_dir='cache_data', datapath='database', name_database='mnist_train/1', height=28, width=28, patch_width=9, N_patches=2**16)\n",
    "shl = SHL(homeo_method=homeo_method, **opts)\n",
    "tag = 'MNIST'\n",
    "data = shl.get_data(matname='mnist_train_1')\n",
    "dico = shl.learn_dico(data=data, matname=tag + '_' + homeo_method, list_figures=list_figures)   "
   ]
  },
  {
   "cell_type": "code",
   "execution_count": null,
   "metadata": {},
   "outputs": [],
   "source": [
    "dico.dictionary.shape, shl.patch_width**2"
   ]
  },
  {
   "cell_type": "code",
   "execution_count": null,
   "metadata": {},
   "outputs": [],
   "source": [
    "%mkdir -p figures"
   ]
  },
  {
   "cell_type": "code",
   "execution_count": null,
   "metadata": {},
   "outputs": [],
   "source": [
    "fig, ax = shl.show_dico(dico, order=False)\n",
    "plt.savefig('figures/shl_HEH.png')"
   ]
  },
  {
   "cell_type": "code",
   "execution_count": null,
   "metadata": {},
   "outputs": [],
   "source": [
    "fig, ax = shl.show_Pcum(dico)\n",
    "plt.savefig('figures/shl_HEH_Pcum.png')"
   ]
  },
  {
   "cell_type": "markdown",
   "metadata": {},
   "source": [
    "### control: learning with a simplified homeostasis\n",
    "\n",
    "We build up a simpler heuristics based on the probability of activation of filters"
   ]
  },
  {
   "cell_type": "code",
   "execution_count": null,
   "metadata": {
    "ExecuteTime": {
     "end_time": "2018-09-26T13:41:14.021040Z",
     "start_time": "2018-09-26T13:41:13.144172Z"
    }
   },
   "outputs": [],
   "source": [
    "shl = SHL(homeo_method='HAP', **opts)\n",
    "dico = shl.learn_dico(data=data, matname=tag + '_HAP', list_figures=list_figures)"
   ]
  },
  {
   "cell_type": "code",
   "execution_count": null,
   "metadata": {
    "ExecuteTime": {
     "end_time": "2018-09-26T13:41:14.021040Z",
     "start_time": "2018-09-26T13:41:13.144172Z"
    }
   },
   "outputs": [],
   "source": [
    "fig, ax = shl.show_dico(dico, order=False)\n",
    "plt.savefig('figures/shl_HAP.png')"
   ]
  },
  {
   "cell_type": "code",
   "execution_count": null,
   "metadata": {
    "ExecuteTime": {
     "end_time": "2018-09-26T13:41:14.021040Z",
     "start_time": "2018-09-26T13:41:13.144172Z"
    }
   },
   "outputs": [],
   "source": [
    "fig, ax = shl.show_Pcum(dico)\n",
    "plt.savefig('figures/shl_HAP_Pcum.png')"
   ]
  },
  {
   "cell_type": "markdown",
   "metadata": {},
   "source": [
    "### control: learning without homeostasis\n",
    "\n",
    "During the learning, to avoid divergence, the norm of the filters is shunted to $1$."
   ]
  },
  {
   "cell_type": "code",
   "execution_count": null,
   "metadata": {
    "ExecuteTime": {
     "end_time": "2018-09-26T13:51:28.088388Z",
     "start_time": "2018-09-26T13:41:15.783143Z"
    },
    "scrolled": false
   },
   "outputs": [],
   "source": [
    "shl = SHL(homeo_method='None', **opts)\n",
    "dico = shl.learn_dico(data=data, matname=tag + '_nohomeo', list_figures=list_figures) "
   ]
  },
  {
   "cell_type": "code",
   "execution_count": null,
   "metadata": {
    "ExecuteTime": {
     "end_time": "2018-09-26T13:51:30.438167Z",
     "start_time": "2018-09-26T13:51:28.091222Z"
    }
   },
   "outputs": [],
   "source": [
    "fig, ax = shl.show_dico(dico, order=False)\n",
    "plt.savefig('figures/shl_nohomeo.png')"
   ]
  },
  {
   "cell_type": "code",
   "execution_count": null,
   "metadata": {
    "ExecuteTime": {
     "end_time": "2018-09-26T13:51:30.438167Z",
     "start_time": "2018-09-26T13:51:28.091222Z"
    }
   },
   "outputs": [],
   "source": [
    "fig, ax = shl.show_Pcum(dico)\n",
    "plt.savefig('figures/shl_nohomeo_Pcum.png')"
   ]
  },
  {
   "cell_type": "markdown",
   "metadata": {},
   "source": [
    "## Version used"
   ]
  },
  {
   "cell_type": "code",
   "execution_count": null,
   "metadata": {
    "ExecuteTime": {
     "end_time": "2018-09-26T13:51:30.829452Z",
     "start_time": "2018-09-26T13:51:30.773084Z"
    }
   },
   "outputs": [],
   "source": [
    "%load_ext watermark\n",
    "%watermark -i -h -m -v -p numpy,matplotlib,shl_scripts"
   ]
  },
  {
   "cell_type": "code",
   "execution_count": null,
   "metadata": {},
   "outputs": [],
   "source": []
  },
  {
   "cell_type": "code",
   "execution_count": null,
   "metadata": {},
   "outputs": [],
   "source": []
  },
  {
   "cell_type": "code",
   "execution_count": null,
   "metadata": {},
   "outputs": [],
   "source": []
  }
 ],
 "metadata": {
  "kernelspec": {
   "display_name": "Python 3",
   "language": "python",
   "name": "python3"
  },
  "language_info": {
   "codemirror_mode": {
    "name": "ipython",
    "version": 3
   },
   "file_extension": ".py",
   "mimetype": "text/x-python",
   "name": "python",
   "nbconvert_exporter": "python",
   "pygments_lexer": "ipython3",
   "version": "3.11.8"
  },
  "toc": {
   "base_numbering": 1,
   "nav_menu": {
    "height": "99px",
    "width": "252px"
   },
   "number_sections": true,
   "sideBar": true,
   "skip_h1_title": false,
   "title_cell": "Table of Contents",
   "title_sidebar": "Contents",
   "toc_cell": false,
   "toc_position": {},
   "toc_section_display": "block",
   "toc_window_display": false
  }
 },
 "nbformat": 4,
 "nbformat_minor": 2
}
